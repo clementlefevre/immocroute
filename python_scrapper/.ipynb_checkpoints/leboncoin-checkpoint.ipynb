{
 "cells": [
  {
   "cell_type": "code",
   "execution_count": 1,
   "metadata": {},
   "outputs": [],
   "source": [
    "import requests\n",
    "import pandas as pd\n",
    "import time\n",
    "import json\n",
    "from ipywidgets import IntProgress\n",
    "from IPython.display import display\n",
    "import glob\n",
    "import re\n",
    "from random import randint\n",
    "import ast"
   ]
  },
  {
   "cell_type": "code",
   "execution_count": 2,
   "metadata": {},
   "outputs": [],
   "source": [
    "URL = \"https://api.leboncoin.fr/finder/search\""
   ]
  },
  {
   "cell_type": "code",
   "execution_count": 3,
   "metadata": {},
   "outputs": [],
   "source": [
    "headers={   \"api_key\": \"ba0c2dad52b3ec\",\n",
    "\"Content-Type\": \"text/plain;charset=UTF-8\",\n",
    "\"DNT\": \"1\",\n",
    "\"Origin\": \"https://www.leboncoin.fr\",\n",
    "\"Referer\":\"https://www.leboncoin.fr/recherche/?category=2&text=duster&owner_type=private&page=2\",\n",
    "'User-Agent': \"Mozilla/5.0 (X11; Linux x86_64) AppleWebKit/537.36 (KHTML, like Gecko) Chrome/75.0.3770.80 Safari/537.36\"\n",
    "}"
   ]
  },
  {
   "cell_type": "code",
   "execution_count": 4,
   "metadata": {},
   "outputs": [],
   "source": [
    "def get_body(text_search,offset=0):\n",
    "    body = {\"filters\":{\"category\":{\"id\":\"2\"},\"enums\":{\"ad_type\":[\"offer\"]},\"keywords\":{\"text\":text_search,\"type\":\"subject\"},\"location\":{},\"ranges\":{}},\"limit\":35,\"limit_alu\":3,\"owner_type\":\"private\",\"offset\":offset}\n",
    "    return body"
   ]
  },
  {
   "cell_type": "code",
   "execution_count": 5,
   "metadata": {},
   "outputs": [],
   "source": [
    "def get_total_pages(text_search):\n",
    "    body= get_body(text_search)\n",
    "    print(body)\n",
    "    result = (requests.post(URL,json=body,headers=headers)).json()\n",
    "    total_results = result['total']\n",
    "    print(total_results)\n",
    "    total_pages = int(total_results/35)\n",
    "    return total_pages"
   ]
  },
  {
   "cell_type": "code",
   "execution_count": 6,
   "metadata": {},
   "outputs": [],
   "source": [
    "def get_search(text_search,offset=0):\n",
    "    time.sleep(30+(randint(1, 45)))\n",
    "    print(f'offset ={offset}')\n",
    "    try:\n",
    "        result = (requests.post(URL,json=get_body(text_search,offset),headers=headers)).json()\n",
    "        df = pd.DataFrame(result['ads'])\n",
    "        print(f'df found : {df.shape}')\n",
    "        return df\n",
    "    except Exception as e:\n",
    "        print(offset)\n",
    "        print(e)\n",
    "        return None\n",
    "       \n",
    "    "
   ]
  },
  {
   "cell_type": "code",
   "execution_count": 7,
   "metadata": {},
   "outputs": [
    {
     "ename": "SyntaxError",
     "evalue": "f-string: expecting '}' (<ipython-input-7-b6a7e5f9ec8b>, line 13)",
     "output_type": "error",
     "traceback": [
      "\u001b[0;36m  File \u001b[0;32m\"<ipython-input-7-b6a7e5f9ec8b>\"\u001b[0;36m, line \u001b[0;32m13\u001b[0m\n\u001b[0;31m    df_all.to_csv(f'leboncoin_{str(text_search}.csv')\u001b[0m\n\u001b[0m                 ^\u001b[0m\n\u001b[0;31mSyntaxError\u001b[0m\u001b[0;31m:\u001b[0m f-string: expecting '}'\n"
     ]
    }
   ],
   "source": [
    "def get_all_offers(text_search):\n",
    "    df_all = pd.DataFrame()\n",
    "    total_pages = get_total_pages(text_search)\n",
    "    page=0\n",
    "    while page<=total_pages:\n",
    "        df = get_search(text_search,page*35)\n",
    "        df_all = pd.concat([df_all,df],axis=0)\n",
    "        page = page+1\n",
    "        print(f'(page={page})')\n",
    "        print(f'shape fo df_all:{df_all.shape}')\n",
    "        df_all.to_csv(f'leboncoin_{text_search}_pages_to_offset_{int(page*35)}.csv')\n",
    "\n",
    "    df_all.to_csv(f'leboncoin_{str(text_search)}.csv')\n",
    "\n",
    "    "
   ]
  },
  {
   "cell_type": "code",
   "execution_count": null,
   "metadata": {},
   "outputs": [],
   "source": [
    "get_all_offers('transporter')"
   ]
  },
  {
   "cell_type": "markdown",
   "metadata": {},
   "source": [
    "df_1 = pd.read_csv('leboncoin_duster_pages_to_offset_1155.csv')\n",
    "df_2 = pd.read_csv('leboncoin_duster_pages_to_offset_1820.csv')\n",
    "df = pd.concat([df_1,df_2],axis=0)\n",
    "df.reset_index(inplace=True)\n",
    "df_loc = df['location'].apply(lambda x: pd.Series(ast.literal_eval(x)))\n",
    "df_loc.to_csv('duster_locations.csv')"
   ]
  },
  {
   "cell_type": "code",
   "execution_count": null,
   "metadata": {},
   "outputs": [],
   "source": []
  }
 ],
 "metadata": {
  "kernelspec": {
   "display_name": "Python 3",
   "language": "python",
   "name": "python3"
  },
  "language_info": {
   "codemirror_mode": {
    "name": "ipython",
    "version": 3
   },
   "file_extension": ".py",
   "mimetype": "text/x-python",
   "name": "python",
   "nbconvert_exporter": "python",
   "pygments_lexer": "ipython3",
   "version": "3.7.1"
  }
 },
 "nbformat": 4,
 "nbformat_minor": 2
}

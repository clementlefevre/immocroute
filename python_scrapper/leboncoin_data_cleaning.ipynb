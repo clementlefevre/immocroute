{
 "cells": [
  {
   "cell_type": "code",
   "execution_count": 6,
   "metadata": {},
   "outputs": [],
   "source": [
    "import pandas as pd\n",
    "import ast"
   ]
  },
  {
   "cell_type": "code",
   "execution_count": 9,
   "metadata": {},
   "outputs": [
    {
     "name": "stdout",
     "output_type": "stream",
     "text": [
      "/home/ramon/workspace/immocroute/python_scrapper\n"
     ]
    }
   ],
   "source": [
    "import os; print(os.getcwd())"
   ]
  },
  {
   "cell_type": "code",
   "execution_count": 12,
   "metadata": {},
   "outputs": [],
   "source": [
    "df_1 = pd.read_csv('../data/leboncoin/duster/leboncoin_duster_pages_to_offset_1155.csv')\n",
    "df_2 = pd.read_csv('../data/leboncoin/duster/leboncoin_duster_pages_to_offset_1820.csv')\n",
    "df = pd.concat([df_1,df_2],axis=0)\n",
    "df_loc.to_csv('../data/leboncoin/leboncoin_duster.csv')\n",
    "df_loc = df['location'].apply(lambda x: pd.Series(ast.literal_eval(x))) \n",
    "df_loc.to_csv('../data/leboncoin/leboncoin_duster_location.csv')"
   ]
  },
  {
   "cell_type": "code",
   "execution_count": 16,
   "metadata": {},
   "outputs": [],
   "source": [
    "df = pd.read_csv('../data/leboncoin/leboncoin_transporter.csv')\n",
    "df_loc = df['location'].apply(lambda x: pd.Series(ast.literal_eval(x))) \n",
    "df_loc.to_csv('../data/leboncoin/leboncoin_transporter_locations.csv')"
   ]
  },
  {
   "cell_type": "code",
   "execution_count": 5,
   "metadata": {},
   "outputs": [],
   "source": []
  },
  {
   "cell_type": "code",
   "execution_count": 13,
   "metadata": {},
   "outputs": [],
   "source": [
    "df = pd.read_csv('../data/leboncoin/leboncoin_duster_location.csv')"
   ]
  }
 ],
 "metadata": {
  "kernelspec": {
   "display_name": "Python 3",
   "language": "python",
   "name": "python3"
  },
  "language_info": {
   "codemirror_mode": {
    "name": "ipython",
    "version": 3
   },
   "file_extension": ".py",
   "mimetype": "text/x-python",
   "name": "python",
   "nbconvert_exporter": "python",
   "pygments_lexer": "ipython3",
   "version": "3.7.1"
  }
 },
 "nbformat": 4,
 "nbformat_minor": 2
}
